{
  "nbformat": 4,
  "nbformat_minor": 0,
  "metadata": {
    "colab": {
      "name": "analisesCABra_new_Correlation.ipynb",
      "provenance": [],
      "collapsed_sections": [],
      "mount_file_id": "1s-ggzTmqbye3ADBQew0dYm0RelssMDIz",
      "authorship_tag": "ABX9TyPjj43naLbBv0gjympdcHDB",
      "include_colab_link": true
    },
    "kernelspec": {
      "display_name": "Python 3",
      "name": "python3"
    },
    "language_info": {
      "name": "python"
    }
  },
  "cells": [
    {
      "cell_type": "markdown",
      "metadata": {
        "id": "view-in-github",
        "colab_type": "text"
      },
      "source": [
        "<a href=\"https://colab.research.google.com/github/SballarinAndre/Disciplina-Nexus/blob/main/analisesCABra_new_Correlation.ipynb\" target=\"_parent\"><img src=\"https://colab.research.google.com/assets/colab-badge.svg\" alt=\"Open In Colab\"/></a>"
      ]
    },
    {
      "cell_type": "code",
      "metadata": {
        "id": "zpXDA49DBZwq"
      },
      "source": [
        "import numpy as np\n",
        "import gc\n",
        "import cftime\n",
        "import pathlib\n",
        "import pandas as pd\n",
        "import matplotlib.pyplot as plt\n",
        "import seaborn as sns\n",
        "from functools import reduce\n",
        "from scipy.optimize import curve_fit\n",
        "from sklearn.metrics import r2_score\n",
        "from sklearn.metrics import mean_squared_error\n",
        "from scipy.stats import spearmanr, pearsonr\n"
      ],
      "execution_count": 1,
      "outputs": []
    },
    {
      "cell_type": "code",
      "metadata": {
        "id": "jPO6a6ug0Jev"
      },
      "source": [
        "# Finding CABRa attributes csv files\n",
        "pathFiles = pathlib.Path('/content/drive/MyDrive/Colab Notebooks/CABRa_attributes_csv/')\n",
        "cabraAttributesFiles = pathFiles.rglob('*.csv')\n"
      ],
      "execution_count": 2,
      "outputs": []
    },
    {
      "cell_type": "code",
      "metadata": {
        "id": "UeaDdUy30edl"
      },
      "source": [
        "# Reading files\n",
        "dfs = []\n",
        "for file in cabraAttributesFiles:\n",
        "    print(file)\n",
        "    df = pd.read_csv(file, engine='python', delimiter=',')\n",
        "    dfs.append(df)"
      ],
      "execution_count": null,
      "outputs": []
    },
    {
      "cell_type": "code",
      "metadata": {
        "id": "wHN0gLQN3DoI"
      },
      "source": [
        "# Merging DataFrames\n",
        "dfMerged = reduce(lambda  left,right: pd.merge(left, right, on=['CABra ID', 'ANA ID'], how='outer'), dfs)"
      ],
      "execution_count": 4,
      "outputs": []
    },
    {
      "cell_type": "code",
      "metadata": {
        "id": "eluZ0CQlAcRC",
        "colab": {
          "base_uri": "https://localhost:8080/"
        },
        "outputId": "5bb80f04-b812-4055-ce79-ded155803342"
      },
      "source": [
        "dfMerged.columns"
      ],
      "execution_count": 5,
      "outputs": [
        {
          "output_type": "execute_result",
          "data": {
            "text/plain": [
              "Index(['CABra ID', 'ANA ID', 'longitude_centroid', 'latitude_centroid',\n",
              "       'dist_coast', 'clim_p', 'clim_tmin', 'clim_tmax', 'clim_rh',\n",
              "       'clim_wind', 'clim_srad', 'clim_et', 'clim_pet', 'aridity_index',\n",
              "       'p_seasonality', 'clim_quality', 'aquif_name', 'aquif_type',\n",
              "       'catch_wtd', 'catch_hand', 'hand_class', 'dist_urban', 'cover_urban_x',\n",
              "       'cover_crops_x', 'res_number', 'res_area', 'res_volume',\n",
              "       'res_regulation', 'water_demand', 'hdisturb_index', 'cover_main',\n",
              "       'cover_bare', 'cover_forest', 'cover_crops_y', 'cover_grass',\n",
              "       'cover_moss', 'cover_shrub', 'cover_urban_y', 'cover_snow',\n",
              "       'cover_waterp', 'cover_waters', 'ndvi_djf', 'ndvi_mam', 'ndvi_jja',\n",
              "       'ndvi_son', 'longitude', 'latitude', 'gauge_hreg', 'gauge_biome',\n",
              "       'gauge_state', 'missing_data', 'series_length', 'quality_index',\n",
              "       'catch_lith', 'sub_porosity', 'sub_permeability', 'sub_hconduc',\n",
              "       'soil_type', 'soil_textclass', 'soil_sand', 'soil_silt', 'soil_clay',\n",
              "       'soil_carbon', 'soil_bulk', 'soil_depth', 'catch_area', 'elev_mean',\n",
              "       'elev_min', 'elev_max', 'elev_gauge', 'catch_slope', 'catch_order',\n",
              "       'q_mean', 'q_1', 'q_5', 'q_95', 'q_99', 'q_lf', 'q_ld', 'q_hf', 'q_hd',\n",
              "       'q_hfd', 'q_zero', 'q_cv', 'q_lcv', 'q_hcv', 'q_elasticity',\n",
              "       'fdc_slope', 'baseflow_index', 'runoff_coef', 'q_annual',\n",
              "       'q_baseflow_annual', 'q_quickflow_annual'],\n",
              "      dtype='object')"
            ]
          },
          "metadata": {},
          "execution_count": 5
        }
      ]
    },
    {
      "cell_type": "code",
      "metadata": {
        "id": "mHXyCPFhGd00"
      },
      "source": [
        "#Values for annual time-scale\n",
        "dfMerged['clim_p_annual'] = dfMerged['clim_p']*365.26667\n",
        "dfMerged['clim_pet_annual'] = dfMerged['clim_pet']*365.26667"
      ],
      "execution_count": 6,
      "outputs": []
    },
    {
      "cell_type": "code",
      "metadata": {
        "id": "I3OWPvXuDOOb",
        "colab": {
          "base_uri": "https://localhost:8080/"
        },
        "outputId": "b3211fec-24d9-4460-8ad1-e1549e6c4ec3"
      },
      "source": [
        "# Calculating ECI (Liu et al. (2020))\n",
        "# Calculating the ratio Effective Area / Topographic Area (Liu et al. (2020))\n",
        "dfMerged['ECI'] = np.log10(dfMerged['q_mean']/(dfMerged['clim_p']-dfMerged['clim_et']))\n",
        "dfMerged['Aeff/Atopo'] = dfMerged['q_mean']/(dfMerged['clim_p']-dfMerged['clim_et'])"
      ],
      "execution_count": 7,
      "outputs": [
        {
          "output_type": "stream",
          "name": "stderr",
          "text": [
            "/usr/local/lib/python3.7/dist-packages/pandas/core/series.py:726: RuntimeWarning: invalid value encountered in log10\n",
            "  result = getattr(ufunc, method)(*inputs, **kwargs)\n"
          ]
        }
      ]
    },
    {
      "cell_type": "code",
      "metadata": {
        "id": "7pSXWc7CYJBj"
      },
      "source": [
        "# Creating new column called 'substantial' and grouping into 3 groups\n",
        "# The ratio is according to Liu et al. (2020)\n",
        "max_ratio = 2\n",
        "min_ratio = 0.5\n",
        "\n",
        "dfMerged.loc[dfMerged['Aeff/Atopo']>=max_ratio, 'substantial'] = 'Gaining'\n",
        "dfMerged.loc[(dfMerged['Aeff/Atopo']<max_ratio)&\n",
        "              (dfMerged['Aeff/Atopo']>1), 'substantial'] = 'Small gain'\n",
        "dfMerged.loc[(dfMerged['Aeff/Atopo']>min_ratio)&\n",
        "              (dfMerged['Aeff/Atopo']<=1), 'substantial'] = 'Small loss'\n",
        "dfMerged.loc[dfMerged['Aeff/Atopo']<=min_ratio, 'substantial'] = 'Losing'\n",
        "\n"
      ],
      "execution_count": 8,
      "outputs": []
    },
    {
      "cell_type": "code",
      "metadata": {
        "id": "QfICpbIBOX5A"
      },
      "source": [
        "#Correcting values of Q according to Aeff/Atopo\n",
        "dfMerged['q_quickflow_annual_corrected'] = dfMerged['q_quickflow_annual']/dfMerged['Aeff/Atopo']\n",
        "dfMerged['q_baseflow_annual_corrected'] = dfMerged['q_baseflow_annual']/dfMerged['Aeff/Atopo']\n",
        "dfMerged['q_annual_corrected'] = dfMerged['q_annual']/dfMerged['Aeff/Atopo']"
      ],
      "execution_count": 9,
      "outputs": []
    },
    {
      "cell_type": "code",
      "metadata": {
        "id": "cKtBQIQKjChm"
      },
      "source": [
        "#Filtering catchments - Excluding catchments with runoff coeficient > 1 and/or null values of ECI\n",
        "dfFinal = dfMerged[dfMerged['runoff_coef'] < 1]\n",
        "dfFinal = dfFinal[dfFinal['ECI'].notnull()]"
      ],
      "execution_count": 15,
      "outputs": []
    },
    {
      "cell_type": "code",
      "metadata": {
        "id": "pZz8pGCkgTRp"
      },
      "source": [
        "# The column 'catch_area' is problematic, because it was a object type.\n",
        "# Changed to 'int'\n",
        "dfFinal['catch_area'] = dfFinal['catch_area'].str.replace('.','')\n",
        "dfFinal['catch_area'] = dfFinal['catch_area'].astype('int64')\n",
        "dfFinal['catch_area'] = dfFinal['catch_area']/1000"
      ],
      "execution_count": 16,
      "outputs": []
    },
    {
      "cell_type": "code",
      "metadata": {
        "colab": {
          "base_uri": "https://localhost:8080/",
          "height": 297
        },
        "id": "jzF2diY2gfud",
        "outputId": "613ef01b-a0e9-4838-91b4-a1328b7638a7"
      },
      "source": [
        "#Selecting catchments using area\n",
        "\n",
        "# dfFinal = dfFinal[(dfFinal['catch_area']< 25000)]\n",
        "dfFinal[['Aeff/Atopo','catch_area']].describe()"
      ],
      "execution_count": 17,
      "outputs": [
        {
          "output_type": "execute_result",
          "data": {
            "text/html": [
              "<div>\n",
              "<style scoped>\n",
              "    .dataframe tbody tr th:only-of-type {\n",
              "        vertical-align: middle;\n",
              "    }\n",
              "\n",
              "    .dataframe tbody tr th {\n",
              "        vertical-align: top;\n",
              "    }\n",
              "\n",
              "    .dataframe thead th {\n",
              "        text-align: right;\n",
              "    }\n",
              "</style>\n",
              "<table border=\"1\" class=\"dataframe\">\n",
              "  <thead>\n",
              "    <tr style=\"text-align: right;\">\n",
              "      <th></th>\n",
              "      <th>Aeff/Atopo</th>\n",
              "      <th>catch_area</th>\n",
              "    </tr>\n",
              "  </thead>\n",
              "  <tbody>\n",
              "    <tr>\n",
              "      <th>count</th>\n",
              "      <td>731.000000</td>\n",
              "      <td>7.310000e+02</td>\n",
              "    </tr>\n",
              "    <tr>\n",
              "      <th>mean</th>\n",
              "      <td>1.023410</td>\n",
              "      <td>4.505083e+04</td>\n",
              "    </tr>\n",
              "    <tr>\n",
              "      <th>std</th>\n",
              "      <td>0.398882</td>\n",
              "      <td>2.392210e+05</td>\n",
              "    </tr>\n",
              "    <tr>\n",
              "      <th>min</th>\n",
              "      <td>0.102564</td>\n",
              "      <td>3.163000e+00</td>\n",
              "    </tr>\n",
              "    <tr>\n",
              "      <th>25%</th>\n",
              "      <td>0.812509</td>\n",
              "      <td>8.508350e+02</td>\n",
              "    </tr>\n",
              "    <tr>\n",
              "      <th>50%</th>\n",
              "      <td>1.005525</td>\n",
              "      <td>2.906530e+03</td>\n",
              "    </tr>\n",
              "    <tr>\n",
              "      <th>75%</th>\n",
              "      <td>1.194200</td>\n",
              "      <td>1.283298e+04</td>\n",
              "    </tr>\n",
              "    <tr>\n",
              "      <th>max</th>\n",
              "      <td>3.866667</td>\n",
              "      <td>4.807564e+06</td>\n",
              "    </tr>\n",
              "  </tbody>\n",
              "</table>\n",
              "</div>"
            ],
            "text/plain": [
              "       Aeff/Atopo    catch_area\n",
              "count  731.000000  7.310000e+02\n",
              "mean     1.023410  4.505083e+04\n",
              "std      0.398882  2.392210e+05\n",
              "min      0.102564  3.163000e+00\n",
              "25%      0.812509  8.508350e+02\n",
              "50%      1.005525  2.906530e+03\n",
              "75%      1.194200  1.283298e+04\n",
              "max      3.866667  4.807564e+06"
            ]
          },
          "metadata": {},
          "execution_count": 17
        }
      ]
    },
    {
      "cell_type": "code",
      "metadata": {
        "id": "TMnWKfi80neV"
      },
      "source": [
        "#Defining BIAS of estimated Qb, Qd, Q and W\n",
        "D = 0.38\n",
        "def funcD_teste(x,a,b):\n",
        "    return (np.exp(-(x**a) + np.sign(np.log(D))*np.float_power(abs(np.log(D)),(1.0/b))))**b\n",
        "\n",
        "def funcB_teste(x,c,d):\n",
        "    return (np.exp(-(x**c) + np.sign(np.log(1-D))*np.float_power(abs(np.log(1-D)),(1.0/d))))**d\n",
        "def funcR_teste(x,a,b,c,d):\n",
        "    return ((np.exp(-(x**a) + np.sign(np.log(D))*np.float_power(abs(np.log(D)),(1.0/b))))**b + (np.exp(-(x**c) + np.sign(np.log(1-D))*np.float_power(abs(np.log(1-D)),(1.0/d))))**d)\n"
      ],
      "execution_count": null,
      "outputs": []
    },
    {
      "cell_type": "code",
      "metadata": {
        "id": "Hk1gKHdMxzR9"
      },
      "source": [
        "\n",
        "par_aFinal= 1.08816485819687\n",
        "par_bFinal= 1.23095186755981\n",
        "par_cFinal= 1.19865250119228\n",
        "par_dFinal= 0.735063074344181\n",
        "\n",
        "x = dfFinal['aridity_index']\n",
        "p = dfFinal['clim_p_annual']\n",
        "qB = dfFinal['q_baseflow_annual']\n",
        "qD = dfFinal['q_quickflow_annual']\n",
        "qQ  = dfFinal['q_annual']\n",
        "w  = dfFinal['clim_p_annual'] - dfFinal['q_quickflow_annual']\n",
        "\n",
        "yD_est = funcD_teste(x,par_aFinal, par_bFinal)\n",
        "yB_est = funcB_teste(x,par_cFinal, par_dFinal)\n",
        "yQ_est = funcR_teste(x,par_aFinal, par_bFinal, par_cFinal, par_dFinal)\n",
        "qB_est = yB_est*p\n",
        "qD_est = yD_est*p\n",
        "qQ_est = yQ_est*p\n",
        "w_est  = p - qD_est\n",
        "\n",
        "# dfFinal['q_baseflow_bias'] = ((qB_est - qB)/qB)*100\n",
        "# dfFinal['q_quickflow_bias'] = ((qD_est - qD)/qD)*100\n",
        "# dfFinal['q_bias'] = ((qQ_est - qQ)/qQ)*100\n",
        "# dfFinal['w_bias'] = ((w_est - w)/w)*100\n",
        "dfFinal['q_baseflow_annual_est'] = qB_est\n",
        "dfFinal['q_quickflow_annual_est'] = qD_est\n",
        "dfFinal['q_annual_est'] = qQ_est\n",
        "dfFinal['w_annual_est'] = w_est\n",
        "\n",
        "par_aFinal_corr= 0.72099025727739\n",
        "par_bFinal_corr= 1.30100172735143\n",
        "par_cFinal_corr= 0.752050524211796\n",
        "par_dFinal_corr= 0.810305052137073\n",
        "\n",
        "x = dfFinal['aridity_index']\n",
        "p = dfFinal['clim_p_annual']\n",
        "qB_cor = dfFinal['q_baseflow_annual_corrected']\n",
        "qD_cor = dfFinal['q_quickflow_annual_corrected']\n",
        "qQ_cor = dfFinal['q_annual_corrected']\n",
        "w_cor  = dfFinal['clim_p_annual'] - dfFinal['q_quickflow_annual_corrected']\n",
        "\n",
        "yD_est_cor = funcD_teste(x,par_aFinal_corr, par_bFinal_corr)\n",
        "yB_est_cor = funcB_teste(x,par_cFinal_corr, par_dFinal_corr)\n",
        "yQ_est_cor = funcR_teste(x,par_aFinal_corr, par_bFinal_corr, par_cFinal_corr, par_dFinal_corr)\n",
        "qB_est_cor = yB_est_cor*p\n",
        "qD_est_cor = yD_est_cor*p\n",
        "qQ_est_cor = yQ_est_cor*p\n",
        "w_est_cor  = p - qD_est_cor\n",
        "\n",
        "# dfFinal['q_baseflow_bias_corrected'] = ((qB_est_cor - qB_cor)/qB_cor)*100\n",
        "# dfFinal['q_quickflow_bias_corrected'] = ((qD_est_cor - qD_cor)/qD_cor)*100\n",
        "# dfFinal['q_bias_corrected'] = ((qQ_est_cor - qQ_cor)/qQ_cor)*100\n",
        "# dfFinal['w_bias_corrected'] = ((w_est_cor - w_cor)/w_cor)*100\n",
        "dfFinal['q_baseflow_annual_est_cor'] = qB_est_cor\n",
        "dfFinal['q_quickflow_annual_est_cor'] = qD_est_cor\n",
        "dfFinal['q_annual_est_cor'] = qQ_est_cor\n",
        "dfFinal['w_annual_est_cor'] = w_est_cor\n",
        "\n",
        "\n",
        "\n",
        "\n",
        "rmse_corr = mean_squared_error(qB_est_cor,qB_est, squared=False)\n",
        "rmse = mean_squared_error(qB_est,qB, squared=False)\n",
        "\n",
        "\n",
        "dfFinal['bias_qb'] = dfFinal['q_baseflow_annual']/dfFinal['clim_p_annual'] - dfFinal['q_baseflow_annual_est']/dfFinal['clim_p_annual']\n",
        "dfFinal['bias_qb_corrected'] = dfFinal['q_baseflow_annual_corrected']/dfFinal['clim_p_annual'] - dfFinal['q_baseflow_annual_est_cor']/dfFinal['clim_p_annual']\n",
        "dfFinal['bias_q'] = dfFinal['q_annual']/dfFinal['clim_p_annual'] - dfFinal['q_annual_est']/dfFinal['clim_p_annual']\n",
        "dfFinal['bias_q_corrected'] = dfFinal['q_annual_corrected']/dfFinal['clim_p_annual'] - dfFinal['q_annual_est_cor']/dfFinal['clim_p_annual']\n",
        "dfFinal['bias_qd'] = dfFinal['q_quickflow_annual']/dfFinal['clim_p_annual'] - dfFinal['q_quickflow_annual_est']/dfFinal['clim_p_annual']\n",
        "dfFinal['bias_qd_corrected'] = dfFinal['q_quickflow_annual_corrected']/dfFinal['clim_p_annual'] - dfFinal['q_quickflow_annual_est_cor']/dfFinal['clim_p_annual']\n"
      ],
      "execution_count": null,
      "outputs": []
    },
    {
      "cell_type": "code",
      "metadata": {
        "id": "qjoXVuz5EyE8",
        "colab": {
          "base_uri": "https://localhost:8080/"
        },
        "outputId": "f68464c6-dcad-4564-bfdb-3c54cb88b614"
      },
      "source": [
        "dfFinal['Aeff/Atopo'].describe()"
      ],
      "execution_count": null,
      "outputs": [
        {
          "output_type": "execute_result",
          "data": {
            "text/plain": [
              "count    357.000000\n",
              "mean       1.041065\n",
              "std        0.561062\n",
              "min        0.102564\n",
              "25%        0.619048\n",
              "50%        0.800000\n",
              "75%        1.384858\n",
              "max        3.866667\n",
              "Name: Aeff/Atopo, dtype: float64"
            ]
          },
          "metadata": {},
          "execution_count": 86
        }
      ]
    },
    {
      "cell_type": "code",
      "metadata": {
        "id": "B8Kre7Xo-x7n"
      },
      "source": [
        "#Evaluation of correlation between variables and bias_Qb and bias_Qb_est...\n",
        "\n",
        "#Pre-selection of variables\n",
        "variables = ['dist_coast','aridity_index','p_seasonality',  'aquif_name', 'aquif_type',\n",
        "             'catch_wtd', 'catch_hand', 'hand_class','res_area',  'hdisturb_index',\n",
        "             'q_elasticity', 'baseflow_index',  'gauge_hreg', 'gauge_biome', 'gauge_state',\n",
        "             'catch_lith', 'sub_porosity', 'sub_permeability', 'sub_hconduc', 'soil_type',\n",
        "             'soil_textclass','elev_mean', 'catch_slope', 'catch_order', \n",
        "             'latitude_centroid', 'longitude_centroid', 'cover_forest','cover_urban_x','cover_crops_x']\n",
        "\n",
        "\n",
        "# Removing non-numerical variables\n",
        "numberVariables = []\n",
        "for v, i in zip(variables, dfFinal[variables].dtypes):\n",
        "    if ('float' in str(i)) or ('int' in str(i)):\n",
        "        numberVariables.append(v)\n",
        "    else:\n",
        "        pass"
      ],
      "execution_count": null,
      "outputs": []
    },
    {
      "cell_type": "code",
      "metadata": {
        "colab": {
          "base_uri": "https://localhost:8080/"
        },
        "id": "lq2Xbgx6_90q",
        "outputId": "5fa4b48f-fd04-4905-ddc7-7d7106e8ed90"
      },
      "source": [
        "numberVariables"
      ],
      "execution_count": null,
      "outputs": [
        {
          "output_type": "execute_result",
          "data": {
            "text/plain": [
              "['dist_coast',\n",
              " 'aridity_index',\n",
              " 'p_seasonality',\n",
              " 'catch_wtd',\n",
              " 'catch_hand',\n",
              " 'res_area',\n",
              " 'hdisturb_index',\n",
              " 'q_elasticity',\n",
              " 'baseflow_index',\n",
              " 'sub_porosity',\n",
              " 'sub_permeability',\n",
              " 'sub_hconduc',\n",
              " 'elev_mean',\n",
              " 'catch_slope',\n",
              " 'catch_order',\n",
              " 'latitude_centroid',\n",
              " 'longitude_centroid',\n",
              " 'cover_forest',\n",
              " 'cover_urban_x',\n",
              " 'cover_crops_x']"
            ]
          },
          "metadata": {},
          "execution_count": 67
        }
      ]
    },
    {
      "cell_type": "code",
      "metadata": {
        "colab": {
          "base_uri": "https://localhost:8080/",
          "height": 738
        },
        "id": "a2yDI8Lsq5hy",
        "outputId": "b65d669e-5240-499a-cf7c-ad0a37dcaffd"
      },
      "source": [
        "#Defining correlation\n",
        "labelVariables = ['Dist Coast','Aridity Index','Prec Seasonality','Catch water table depth','Catch HAND',\n",
        "                  'Reservoir Area','Hydrologic Disturb Index','Q elasticity','BFI','Sub porosity','Sub Permeability',\n",
        "                  'Sub HydroConductivity','Mean Elevation','Catch Slope','Catch Order','Lat','Lon','Forest Cover',\n",
        "                  'Urban Cover','Crops Cover']\n",
        "\n",
        "qVar = 'bias_qb'\n",
        "qVarCorrected = 'bias_qb_corrected'\n",
        "corrQb_pearson = []\n",
        "corrQb_corrected_pearson = []\n",
        "corrQb_spearman = []\n",
        "corrQb_corrected_spearman = []\n",
        "\n",
        "for var in numberVariables:\n",
        "\n",
        "  spQb = spearmanr(dfFinal[qVar],dfFinal[var])\n",
        "  spQb_corr = spearmanr(dfFinal[qVarCorrected],dfFinal[var])\n",
        "  corrQb_spearman.append(spQb[0])\n",
        "  corrQb_corrected_spearman.append(spQb_corr[0])\n",
        "  peQb = pearsonr(dfFinal[qVar],dfFinal[var])\n",
        "  peQb_corr = pearsonr(dfFinal[qVarCorrected],dfFinal[var])\n",
        "  corrQb_pearson.append(peQb[0])\n",
        "  corrQb_corrected_pearson.append(peQb_corr[0])\n",
        "\n",
        "\n",
        "\n",
        "dfCorrelation_spearman = pd.DataFrame({'Q': corrQb_spearman,'Q_corrected':corrQb_corrected_spearman})\n",
        "dfCorrelation_pearson = pd.DataFrame({'Q': corrQb_pearson,'Q_corrected':corrQb_corrected_pearson})\n",
        "\n",
        "\n",
        "\n",
        "fig,ax = plt.subplots(nrows = 2, figsize = (20,10), sharex = True)\n",
        "\n",
        "pearson_corr = sns.heatmap(dfCorrelation_pearson.T, annot=True, cmap = 'RdBu',\n",
        "                           xticklabels=labelVariables, fmt='.2', ax = ax[0], vmin = -0.5, vmax = 0.5)\n",
        "spearman_corr = sns.heatmap(dfCorrelation_spearman.T, annot=True, cmap = 'RdBu',\n",
        "                           xticklabels=labelVariables, fmt='.2', ax = ax[1], vmin = -0.5, vmax = 0.5)\n",
        "ax[0].set_yticklabels(['Qb/P','Qb/P corrected'], fontsize = 13)\n",
        "ax[1].set_yticklabels(['Qb/P','Qb/P corrected'], fontsize = 13)\n",
        "ax[0].set_title('Pearson', fontsize = 13)\n",
        "ax[1].set_title('Spearman', fontsize = 13)\n",
        "# ax[0].set_xticklabels(labelVariables, fontsize = 13)\n",
        "# ax[1].set_xticklabels(labelVariables, fontsize = 13)\n",
        "# fig.savefig('/content/drive/MyDrive/Colab Notebooks/CABra_Figures/Q_p_correlation_no_abs.jpeg', dpi=500)\n",
        "\n"
      ],
      "execution_count": null,
      "outputs": [
        {
          "output_type": "execute_result",
          "data": {
            "text/plain": [
              "Text(0.5, 1.0, 'Spearman')"
            ]
          },
          "metadata": {},
          "execution_count": 88
        },
        {
          "output_type": "display_data",
          "data": {
            "image/png": "[encoded data removed]",
            "text/plain": [
              "<Figure size 1440x720 with 4 Axes>"
            ]
          },
          "metadata": {
            "needs_background": "light"
          }
        }
      ]
    },
    {
      "cell_type": "code",
      "metadata": {
        "id": "g2WzfSibuaLw"
      },
      "source": [
        ""
      ],
      "execution_count": null,
      "outputs": []
    }
  ]
}